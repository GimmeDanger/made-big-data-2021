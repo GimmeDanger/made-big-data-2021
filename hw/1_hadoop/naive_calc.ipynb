{
 "cells": [
  {
   "cell_type": "code",
   "execution_count": 1,
   "id": "631dd5b3",
   "metadata": {},
   "outputs": [],
   "source": [
    "import pandas as pd\n",
    "import numpy as np"
   ]
  },
  {
   "cell_type": "code",
   "execution_count": 6,
   "id": "16f350c0",
   "metadata": {},
   "outputs": [],
   "source": [
    "df = pd.read_csv('AB_NYC_2019.csv')\n",
    "price = df.price.dropna()\n",
    "price = np.array(price)"
   ]
  },
  {
   "cell_type": "code",
   "execution_count": 7,
   "id": "bf588430",
   "metadata": {},
   "outputs": [
    {
     "data": {
      "text/plain": [
       "(48895, 152.7206871868289, 57672.84569843359)"
      ]
     },
     "execution_count": 7,
     "metadata": {},
     "output_type": "execute_result"
    }
   ],
   "source": [
    "len(price), np.mean(price), np.var(price)"
   ]
  },
  {
   "cell_type": "code",
   "execution_count": 10,
   "id": "09ce8c79",
   "metadata": {},
   "outputs": [],
   "source": [
    "np.savetxt('price.txt', price, delimiter=' ')"
   ]
  }
 ],
 "metadata": {
  "kernelspec": {
   "display_name": "Python 3 (ipykernel)",
   "language": "python",
   "name": "python3"
  },
  "language_info": {
   "codemirror_mode": {
    "name": "ipython",
    "version": 3
   },
   "file_extension": ".py",
   "mimetype": "text/x-python",
   "name": "python",
   "nbconvert_exporter": "python",
   "pygments_lexer": "ipython3",
   "version": "3.8.0"
  }
 },
 "nbformat": 4,
 "nbformat_minor": 5
}
